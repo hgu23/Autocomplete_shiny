{
 "cells": [
  {
   "cell_type": "code",
   "execution_count": 1,
   "metadata": {},
   "outputs": [],
   "source": [
    "import operator\n",
    "import os\n",
    "import collections\n",
    "import pickle\n",
    "import autocomplete2\n",
    "from collections import Counter\n",
    "from bottle import route, run, debug\n",
    "from autocomplete2 import predict\n",
    "from autocomplete2 import models\n",
    "from autocomplete2 import helpers\n",
    "from autocomplete2 import split_predict\n",
    "from autocomplete2 import predict_currword\n",
    "from autocomplete2 import predict_second_word_given_first\n",
    "import re \n",
    "import numpy as np \n",
    "import time\n",
    "import csv \n",
    "import matplotlib.pyplot as plt\n",
    "import math "
   ]
  },
  {
   "cell_type": "code",
   "execution_count": 3,
   "metadata": {},
   "outputs": [],
   "source": [
    "insert_elapsed_1 = np.load(\"insert_elapsed_1.npy\")"
   ]
  },
  {
   "cell_type": "code",
   "execution_count": 4,
   "metadata": {},
   "outputs": [],
   "source": [
    "insert_elapsed_2 = np.load(\"insert_elapsed_2.npy\")"
   ]
  },
  {
   "cell_type": "code",
   "execution_count": 5,
   "metadata": {},
   "outputs": [],
   "source": [
    "insert_elapsed_3 = np.load(\"insert_elapsed_3.npy\")"
   ]
  },
  {
   "cell_type": "code",
   "execution_count": 6,
   "metadata": {},
   "outputs": [],
   "source": [
    "insert_elapsed_4 = np.load(\"insert_elapsed_4.npy\")"
   ]
  },
  {
   "cell_type": "code",
   "execution_count": 8,
   "metadata": {},
   "outputs": [],
   "source": [
    "query_elapsed_1 = np.load(\"query_elapsed_list1.npy\")"
   ]
  },
  {
   "cell_type": "code",
   "execution_count": 9,
   "metadata": {},
   "outputs": [],
   "source": [
    "query_elapsed_2 = np.load(\"query_elapsed_list2.npy\")"
   ]
  },
  {
   "cell_type": "code",
   "execution_count": 10,
   "metadata": {},
   "outputs": [],
   "source": [
    "query_elapsed_3 = np.load(\"query_elapsed_list3.npy\")"
   ]
  },
  {
   "cell_type": "code",
   "execution_count": 11,
   "metadata": {},
   "outputs": [],
   "source": [
    "query_elapsed_4 = np.load(\"query_elapsed_list_everything.npy\")"
   ]
  },
  {
   "cell_type": "code",
   "execution_count": 6,
   "metadata": {},
   "outputs": [],
   "source": [
    "query_lines = range(0,320610,40000)\n",
    "query_lines = np.asarray(query_lines)"
   ]
  },
  {
   "cell_type": "code",
   "execution_count": 3,
   "metadata": {},
   "outputs": [],
   "source": [
    "corpus = open(\"everything_combined.txt\").readlines()"
   ]
  },
  {
   "cell_type": "code",
   "execution_count": 4,
   "metadata": {},
   "outputs": [],
   "source": [
    "query_lines = range(0,len(corpus),40000)\n",
    "query_lines = np.asarray(query_lines)"
   ]
  },
  {
   "cell_type": "code",
   "execution_count": 5,
   "metadata": {},
   "outputs": [],
   "source": [
    "mean_query_insert_time_everything = np.load(\"mean_query_insert_list_everything.npy\")"
   ]
  },
  {
   "cell_type": "code",
   "execution_count": 13,
   "metadata": {},
   "outputs": [
    {
     "name": "stdout",
     "output_type": "stream",
     "text": [
      "8.725114965438843 0.5539628908325479\n"
     ]
    }
   ],
   "source": [
    "mean_insert1 = np.mean(insert_elapsed_1)\n",
    "sd_insert1 = np.std(insert_elapsed_1)\n",
    "print(mean_insert1,sd_insert1)"
   ]
  },
  {
   "cell_type": "code",
   "execution_count": 14,
   "metadata": {},
   "outputs": [
    {
     "name": "stdout",
     "output_type": "stream",
     "text": [
      "20.26531138420105\n"
     ]
    }
   ],
   "source": [
    "mean_insert2 = np.mean(insert_elapsed_2)\n",
    "print(mean_insert2)"
   ]
  },
  {
   "cell_type": "code",
   "execution_count": 15,
   "metadata": {},
   "outputs": [
    {
     "name": "stdout",
     "output_type": "stream",
     "text": [
      "29.664701199531557\n"
     ]
    }
   ],
   "source": [
    "mean_insert3 = np.mean(insert_elapsed_3)\n",
    "print(mean_insert3)"
   ]
  },
  {
   "cell_type": "code",
   "execution_count": 16,
   "metadata": {},
   "outputs": [
    {
     "name": "stdout",
     "output_type": "stream",
     "text": [
      "32.35279755592346\n"
     ]
    }
   ],
   "source": [
    "mean_insert4 = np.mean(insert_elapsed_4)\n",
    "print(mean_insert4)"
   ]
  },
  {
   "cell_type": "code",
   "execution_count": 17,
   "metadata": {},
   "outputs": [],
   "source": [
    "mean_insert_list = [mean_insert1,mean_insert2,mean_insert3,mean_insert4]"
   ]
  },
  {
   "cell_type": "code",
   "execution_count": 7,
   "metadata": {},
   "outputs": [
    {
     "data": {
      "text/plain": [
       "Text(0, 0.5, 'Mean Insert Elapsed time(s)')"
      ]
     },
     "execution_count": 7,
     "metadata": {},
     "output_type": "execute_result"
    },
    {
     "data": {
      "image/png": "[encoded data removed]",
      "text/plain": [
       "<Figure size 432x288 with 1 Axes>"
      ]
     },
     "metadata": {
      "needs_background": "light"
     },
     "output_type": "display_data"
    }
   ],
   "source": [
    "plt.plot(query_lines, mean_query_insert_time,'.')\n",
    "plt.xlabel(\"Number of training query lines\")\n",
    "plt.ylabel(\"Mean Insert Elapsed time(s)\")"
   ]
  },
  {
   "cell_type": "code",
   "execution_count": 21,
   "metadata": {},
   "outputs": [
    {
     "data": {
      "image/png": "[encoded data removed]",
      "text/plain": [
       "<Figure size 432x288 with 1 Axes>"
      ]
     },
     "metadata": {
      "needs_background": "light"
     },
     "output_type": "display_data"
    }
   ],
   "source": [
    "plt.plot(query_lines, mean_query_insert_time_everything,'.')\n",
    "plt.xlabel(\"Number of training query lines\")\n",
    "plt.ylabel(\"Mean Insert Elapsed time(sec)\")\n",
    "plt.title(\"Investigating the query insert run time complexity for Tries\")\n",
    "plt.savefig('query_run_time_complexity.eps')"
   ]
  },
  {
   "cell_type": "code",
   "execution_count": 12,
   "metadata": {},
   "outputs": [
    {
     "name": "stdout",
     "output_type": "stream",
     "text": [
      "0.027014636993408205\n"
     ]
    }
   ],
   "source": [
    "mean_query1 = np.mean(query_elapsed_1)\n",
    "print(mean_query1)"
   ]
  },
  {
   "cell_type": "code",
   "execution_count": 13,
   "metadata": {},
   "outputs": [
    {
     "name": "stdout",
     "output_type": "stream",
     "text": [
      "0.04966473579406738\n"
     ]
    }
   ],
   "source": [
    "mean_query2 = np.mean(query_elapsed_2)\n",
    "print(mean_query2)"
   ]
  },
  {
   "cell_type": "code",
   "execution_count": 14,
   "metadata": {},
   "outputs": [
    {
     "name": "stdout",
     "output_type": "stream",
     "text": [
      "0.06457877159118652\n"
     ]
    }
   ],
   "source": [
    "mean_query3 = np.mean(query_elapsed_3)\n",
    "print(mean_query3)"
   ]
  },
  {
   "cell_type": "code",
   "execution_count": 15,
   "metadata": {},
   "outputs": [
    {
     "name": "stdout",
     "output_type": "stream",
     "text": [
      "0.09303321838378906\n"
     ]
    }
   ],
   "source": [
    "mean_query4 = np.mean(query_elapsed_4)\n",
    "print(mean_query4)"
   ]
  },
  {
   "cell_type": "code",
   "execution_count": 16,
   "metadata": {},
   "outputs": [],
   "source": [
    "mean_query_list = [mean_query1,mean_query2,mean_query3,mean_query4]"
   ]
  },
  {
   "cell_type": "code",
   "execution_count": 18,
   "metadata": {},
   "outputs": [],
   "source": [
    "num_query_lines = [100000,200000,300000,419081]"
   ]
  },
  {
   "cell_type": "code",
   "execution_count": 22,
   "metadata": {},
   "outputs": [
    {
     "data": {
      "image/png": "[encoded data removed]",
      "text/plain": [
       "<Figure size 432x288 with 1 Axes>"
      ]
     },
     "metadata": {
      "needs_background": "light"
     },
     "output_type": "display_data"
    }
   ],
   "source": [
    "plt.plot(num_query_lines, mean_query_list,'.')\n",
    "plt.xlabel(\"Number of training query lines\")\n",
    "plt.ylabel(\"Mean Search elapsed time(sec)\")\n",
    "plt.title(\"Investigating the query search run time complexity for Tries\")\n",
    "plt.savefig(\"query_search_run_time.eps\")"
   ]
  }
 ],
 "metadata": {
  "kernelspec": {
   "display_name": "Python 3",
   "language": "python",
   "name": "python3"
  },
  "language_info": {
   "codemirror_mode": {
    "name": "ipython",
    "version": 3
   },
   "file_extension": ".py",
   "mimetype": "text/x-python",
   "name": "python",
   "nbconvert_exporter": "python",
   "pygments_lexer": "ipython3",
   "version": "3.7.4"
  }
 },
 "nbformat": 4,
 "nbformat_minor": 4
}
