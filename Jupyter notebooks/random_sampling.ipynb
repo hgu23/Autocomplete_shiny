{
 "cells": [
  {
   "cell_type": "code",
   "execution_count": 1,
   "metadata": {},
   "outputs": [],
   "source": [
    "import operator\n",
    "import os\n",
    "import collections\n",
    "import pickle\n",
    "import autocomplete2\n",
    "from collections import Counter\n",
    "from bottle import route, run, debug\n",
    "from autocomplete2 import predict\n",
    "from autocomplete2 import models\n",
    "from autocomplete2 import helpers\n",
    "from autocomplete2 import split_predict\n",
    "from autocomplete2 import predict_currword\n",
    "from autocomplete2 import predict_second_word_given_first\n",
    "import re \n",
    "import numpy as np \n",
    "import time\n",
    "import csv \n",
    "from random import sample"
   ]
  },
  {
   "cell_type": "code",
   "execution_count": 2,
   "metadata": {},
   "outputs": [],
   "source": [
    "class TrieNode(): \n",
    "    def __init__(self): \n",
    "          \n",
    "        # Initialising one node for trie \n",
    "        self.children = {} \n",
    "        self.last = False\n",
    "  \n",
    "class Trie(): \n",
    "    def __init__(self): \n",
    "          \n",
    "        # Initialising the trie structure. \n",
    "        self.root = TrieNode() \n",
    "        self.word_list = [] \n",
    "  \n",
    "    def formTrie(self, keys): \n",
    "          \n",
    "        # Forms a trie structure with the given set of strings \n",
    "        # if it does not exists already else it merges the key \n",
    "        # into it by extending the structure as required \n",
    "        for key in keys: \n",
    "            self.insert(key) # inserting one key to the trie. \n",
    "  \n",
    "    def insert(self, key): \n",
    "          \n",
    "        # Inserts a key into trie if it does not exist already. \n",
    "        # And if the key is a prefix of the trie node, just  \n",
    "        # marks it as leaf node. \n",
    "        node = self.root \n",
    "        for a in list(key): \n",
    "        ### If the letter of the prefix is not found in the child nodes, add them to the trie ##\n",
    "            if not node.children.get(a): \n",
    "                node.children[a] = TrieNode() \n",
    "            node = node.children[a] \n",
    "        node.last = True\n",
    "  \n",
    "    def search(self, key): \n",
    "          \n",
    "        # Searches the given key in trie for a full match \n",
    "        # and returns True on success else returns False. \n",
    "        node = self.root \n",
    "        found = True\n",
    "  \n",
    "        for a in list(key): \n",
    "            if not node.children.get(a):  ### If the key is not found in the child nodes,  breaks the loop. \n",
    "                found = False\n",
    "                break\n",
    "  \n",
    "            node = node.children[a]  ### Creates a new node with the letter not found in the child nodes.###\n",
    "  \n",
    "        return node and node.last and found \n",
    "  \n",
    "    def suggestionsRec(self, node, word): \n",
    "          \n",
    "        # Method to recursively traverse the trie \n",
    "        # and return a whole word.  \n",
    "        if node.last: \n",
    "            self.word_list.append(word) \n",
    "        ## Add characters to the word in word list as found in the child nodes ###\n",
    "        for a,n in node.children.items(): \n",
    "            self.suggestionsRec(n, word + a) ##### Adds the letters in the child nodes of the current node (node corresponding to the \n",
    "                                             #####last letter of the prefix) to the prefix and then appends it into the \n",
    "                                             ##### list of suggestions ####\n",
    "    \n",
    "    def printAutoSuggestions(self, key,WORDS,top_n): \n",
    "          \n",
    "        # Returns all the words in the trie whose common \n",
    "        # prefix is the given key thus listing out all  \n",
    "        # the suggestions for autocomplete. \n",
    "        self.word_list = []\n",
    "        node = self.root \n",
    "        not_found = False\n",
    "        temp_word = '' \n",
    "  \n",
    "        for a in list(key): \n",
    "           ### If the key is not found in the children, break the loop ###\n",
    "            if not node.children.get(a): \n",
    "                not_found = True\n",
    "                break\n",
    "           ### Add the keys to the temp_word string to form the prefix to be searched ###\n",
    "            temp_word += a \n",
    "            ### Call the node corresponding to the current letter of the prefix if the character exists in the child nodes ###\n",
    "            node = node.children[a] \n",
    "        \n",
    "        if not_found: \n",
    "            return 0\n",
    "        elif node.last and not node.children: ### If the current node itself is the root node (no characters have been added to the trie \n",
    "            return -1                         ##structure)##\n",
    "        print(self.word_list)\n",
    "        freq_dict  = Counter(WORDS)\n",
    "        dict = {}\n",
    "        for s in self.word_list:\n",
    "            dict[s] = freq_dict[s]\n",
    "        sorted_tup = sorted(dict.items(), key=operator.itemgetter(1),reverse = True)\n",
    "        for tup in sorted_tup[:top_n]:\n",
    "            print(tup[0])\n",
    "        return 1"
   ]
  },
  {
   "cell_type": "code",
   "execution_count": 14,
   "metadata": {},
   "outputs": [],
   "source": [
    "corpus = open(\"everything_combined.txt\").readlines()"
   ]
  },
  {
   "cell_type": "code",
   "execution_count": 4,
   "metadata": {},
   "outputs": [
    {
     "name": "stdout",
     "output_type": "stream",
     "text": [
      "[4.291534423828125e-07, 3.65037145614624, 7.026572442054748, 10.799125862121581, 14.71916675567627, 18.846915531158448, 23.57284059524536, 32.79412527084351, 31.390541243553162, 37.48743934631348, 41.97919049263]\n"
     ]
    }
   ],
   "source": [
    "mean_query_insert_list = []\n",
    "for length in range(0,len(corpus),40000):\n",
    "    query_list = sample(corpus,length)\n",
    "    keys = query_list\n",
    "    k = 0\n",
    "    elapsed_list_1 = []\n",
    "    while k<1:\n",
    "        t = Trie() \n",
    "        start = time.time()\n",
    "        t.formTrie(query_list) \n",
    "        end = time.time()\n",
    "        elapsed_time = end-start\n",
    "        elapsed_list_1.append(elapsed_time)\n",
    "        k += 1\n",
    "    mean_query_insert_list.append(np.mean(elapsed_list_1))\n",
    "print(mean_query_insert_list)"
   ]
  },
  {
   "cell_type": "code",
   "execution_count": 13,
   "metadata": {},
   "outputs": [
    {
     "name": "stdout",
     "output_type": "stream",
     "text": [
      "Elapsed time= 6.715363025665283\n"
     ]
    }
   ],
   "source": [
    "t = Trie() \n",
    "start = time.time()\n",
    "t.formTrie(corpus) \n",
    "end = time.time()\n",
    "print(\"Elapsed time=\",end-start)   \n",
    "      \n",
    "       "
   ]
  },
  {
   "cell_type": "code",
   "execution_count": 10,
   "metadata": {},
   "outputs": [
    {
     "name": "stdout",
     "output_type": "stream",
     "text": [
      "[     0  40000  80000 120000 160000 200000 240000 280000 320000 360000\n",
      " 400000]\n"
     ]
    }
   ],
   "source": [
    "print(np.asarray(range(0,len(corpus),40000)))"
   ]
  },
  {
   "cell_type": "code",
   "execution_count": 7,
   "metadata": {},
   "outputs": [],
   "source": [
    "data = np.asarray(mean_query_insert_list)\n",
    "np.save('mean_query_insert_list_everything.npy', data)"
   ]
  },
  {
   "cell_type": "code",
   "execution_count": 17,
   "metadata": {},
   "outputs": [
    {
     "name": "stdout",
     "output_type": "stream",
     "text": [
      "[]\n",
      "[]\n",
      "[]\n",
      "[]\n",
      "[]\n",
      "[]\n",
      "[]\n",
      "[]\n",
      "[]\n",
      "[]\n",
      "[0.011595010757446289, 0.010305166244506836, 0.01139211654663086, 0.0112152099609375, 0.011381149291992188, 0.013096094131469727, 0.013466119766235352, 0.014119148254394531, 0.012277841567993164, 0.013453960418701172]\n",
      "1\n"
     ]
    }
   ],
   "source": [
    "keys = corpus\n",
    "key = \"ev\" # key for autocomplete suggestions. \n",
    "status = [\"Not found\", \"Found\"] \n",
    "query_elapsed_list1 = []\n",
    "k= 0 \n",
    "while k<10:\n",
    "    start = time.time()\n",
    "    comp = t.printAutoSuggestions(key,keys,top_n = 10) \n",
    "    end = time.time()\n",
    "    elapsed_time = end-start\n",
    "    query_elapsed_list1.append(elapsed_time)\n",
    "    k += 1\n",
    "print(query_elapsed_list1)\n",
    "print(comp)\n",
    "if comp == -1: \n",
    "    print(\"No other strings found with this prefix\\n\") \n",
    "elif comp == 0: \n",
    "    print(\"No string found with this prefix\\n\")"
   ]
  },
  {
   "cell_type": "code",
   "execution_count": null,
   "metadata": {},
   "outputs": [],
   "source": [
    "data = np.asarray(query_elapsed_list1)\n",
    "np.save('query_elapsed_list1.npy', data)"
   ]
  },
  {
   "cell_type": "code",
   "execution_count": 23,
   "metadata": {},
   "outputs": [
    {
     "name": "stdout",
     "output_type": "stream",
     "text": [
      "[0, 10000, 20000, 30000, 40000, 50000, 60000, 70000, 80000, 90000, 100000, 110000, 120000, 130000, 140000, 150000, 160000, 170000, 180000, 190000, 200000, 210000, 220000, 230000, 240000, 250000, 260000, 270000, 280000, 290000, 300000, 310000, 320000]\n"
     ]
    }
   ],
   "source": [
    "print(list(range(0,320610,10000)))"
   ]
  },
  {
   "cell_type": "code",
   "execution_count": null,
   "metadata": {},
   "outputs": [],
   "source": []
  },
  {
   "cell_type": "code",
   "execution_count": null,
   "metadata": {},
   "outputs": [],
   "source": []
  }
 ],
 "metadata": {
  "kernelspec": {
   "display_name": "Python 3",
   "language": "python",
   "name": "python3"
  },
  "language_info": {
   "codemirror_mode": {
    "name": "ipython",
    "version": 3
   },
   "file_extension": ".py",
   "mimetype": "text/x-python",
   "name": "python",
   "nbconvert_exporter": "python",
   "pygments_lexer": "ipython3",
   "version": "3.7.4"
  }
 },
 "nbformat": 4,
 "nbformat_minor": 4
}
