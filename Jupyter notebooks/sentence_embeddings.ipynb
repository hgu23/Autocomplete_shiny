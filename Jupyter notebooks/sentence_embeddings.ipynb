{
 "cells": [
  {
   "cell_type": "code",
   "execution_count": null,
   "metadata": {},
   "outputs": [],
   "source": [
    "import gensim\n",
    "from gensim.models import Word2Vec\n",
    "import sklearn\n",
    "from sklearn.decomposition import PCA as PCA\n",
    "import matplotlib.pyplot as plt\n",
    "import time\n",
    "import re\n",
    "from gensim.models.phrases import Phrases,Phraser\n",
    "from spacy.lang.en.stop_words import STOP_WORDS\n",
    "import numpy as np \n",
    "from gensim.utils import simple_preprocess as pre_process\n",
    "from nltk import word_tokenize \n",
    "from nltk.util import ngrams\n",
    "from nltk.tokenize.treebank import TreebankWordDetokenizer as Detok\n",
    "import fse\n",
    "from fse.models import Average\n",
    "from fse import IndexedList\n",
    "from gensim.models import FastText\n",
    "from collections import Counter\n",
    "from fse.models import SIF\n",
    "from fse.models import uSIF"
   ]
  },
  {
   "cell_type": "code",
   "execution_count": 52,
   "metadata": {},
   "outputs": [
    {
     "name": "stderr",
     "output_type": "stream",
     "text": [
      "[nltk_data] Downloading package punkt to /Users/harshitg/nltk_data...\n",
      "[nltk_data]   Package punkt is already up-to-date!\n"
     ]
    },
    {
     "data": {
      "text/plain": [
       "True"
      ]
     },
     "execution_count": 52,
     "metadata": {},
     "output_type": "execute_result"
    }
   ],
   "source": [
    "import nltk\n",
    "nltk.download('punkt')"
   ]
  },
  {
   "cell_type": "code",
   "execution_count": 11,
   "metadata": {},
   "outputs": [],
   "source": [
    "### Reading the combined text file as a list of queries ####\n",
    "queries = open(\"/Users/harshitg/github/autocomplete/autocomplete/everything_combined.txt\").readlines()"
   ]
  },
  {
   "cell_type": "code",
   "execution_count": 3,
   "metadata": {},
   "outputs": [],
   "source": [
    "counter = Counter(queries)"
   ]
  },
  {
   "cell_type": "code",
   "execution_count": 6,
   "metadata": {},
   "outputs": [
    {
     "data": {
      "text/plain": [
       "313285"
      ]
     },
     "execution_count": 6,
     "metadata": {},
     "output_type": "execute_result"
    }
   ],
   "source": [
    "queries.index(\"liver treated with cytoxan adriamycin taxol and herceptin\\n\")"
   ]
  },
  {
   "cell_type": "code",
   "execution_count": 19,
   "metadata": {},
   "outputs": [
    {
     "data": {
      "text/plain": [
       "'the sigmoid colon is extensively encased .\\n'"
      ]
     },
     "execution_count": 19,
     "metadata": {},
     "output_type": "execute_result"
    }
   ],
   "source": [
    "queries[6]"
   ]
  },
  {
   "cell_type": "code",
   "execution_count": 12,
   "metadata": {},
   "outputs": [],
   "source": [
    "#### Splitting each query into a list of strings(a form that can be fed into an word embedding algorithm) ###\n",
    "for i in range(0,len(queries)):\n",
    "       queries[i] = word_tokenize(queries[i])"
   ]
  },
  {
   "cell_type": "code",
   "execution_count": 13,
   "metadata": {},
   "outputs": [],
   "source": [
    "#### Converting the words in each query into the corresponding vector representations using Word2Vec###\n",
    "ft2 = Word2Vec(queries, window = 5, min_count=1)"
   ]
  },
  {
   "cell_type": "code",
   "execution_count": 6,
   "metadata": {},
   "outputs": [],
   "source": [
    "#### Converting the words in each query into the corresponding vector representations using Fasttext###\n",
    "ft = FastText(queries, window = 5, min_count=1)"
   ]
  },
  {
   "cell_type": "code",
   "execution_count": 25,
   "metadata": {},
   "outputs": [],
   "source": [
    "### Trying out the SIF method after using Fasttext to create word embeddings ####\n",
    "model1 = SIF(ft, workers=2)"
   ]
  },
  {
   "cell_type": "code",
   "execution_count": 22,
   "metadata": {},
   "outputs": [],
   "source": [
    "### Trying out the SIF method after using Word2Vec to create word embeddings ####\n",
    "model2 = SIF(ft2, workers=2)"
   ]
  },
  {
   "cell_type": "code",
   "execution_count": 17,
   "metadata": {},
   "outputs": [],
   "source": [
    "#### Converting the list of queries into an indexed list ####\n",
    "index_list = IndexedList(queries)"
   ]
  },
  {
   "cell_type": "code",
   "execution_count": 26,
   "metadata": {},
   "outputs": [
    {
     "data": {
      "text/plain": [
       "(419081, 4110171)"
      ]
     },
     "execution_count": 26,
     "metadata": {},
     "output_type": "execute_result"
    }
   ],
   "source": [
    "#### Training the SIF model on the indexed list of queries (while using FastText) ####\n",
    "model1.train(IndexedList(queries))"
   ]
  },
  {
   "cell_type": "code",
   "execution_count": 27,
   "metadata": {},
   "outputs": [
    {
     "data": {
      "text/plain": [
       "(419081, 4110171)"
      ]
     },
     "execution_count": 27,
     "metadata": {},
     "output_type": "execute_result"
    }
   ],
   "source": [
    "#### Training the SIF model on the indexed list of queries (while using Word2Vec) ####\n",
    "model2.train(IndexedList(queries))"
   ]
  },
  {
   "cell_type": "code",
   "execution_count": 46,
   "metadata": {},
   "outputs": [
    {
     "data": {
      "text/plain": [
       "[(['the', 'sigmoid', 'colon', 'is', 'the'], 7837, 0.9927172660827637),\n",
       " (['the', 'colon', 'is', 'apparently'], 70216, 0.9447572827339172),\n",
       " (['the', 'colon', 'is'], 42505, 0.941917896270752),\n",
       " (['colon',\n",
       "   ',',\n",
       "   'and',\n",
       "   'is',\n",
       "   'contiguous',\n",
       "   'with',\n",
       "   'the',\n",
       "   'uterus',\n",
       "   'and',\n",
       "   'adnexa',\n",
       "   '.'],\n",
       "  5,\n",
       "  0.9235566854476929),\n",
       " (['the', 'colon', 'is', 'markedly'], 72403, 0.9215347766876221)]"
      ]
     },
     "execution_count": 46,
     "metadata": {},
     "output_type": "execute_result"
    }
   ],
   "source": [
    "#### looking at the most similar sentences for the  query ###\n",
    "model1.sv.most_similar(6,indexable=index_list.items)[0:5]"
   ]
  },
  {
   "cell_type": "code",
   "execution_count": 47,
   "metadata": {},
   "outputs": [
    {
     "data": {
      "text/plain": [
       "[(['the', 'sigmoid', 'colon', 'is', 'the'], 7837, 0.9980358481407166),\n",
       " (['sigmoid', 'colon', 'with', 'diverticuli', '.'], 12033, 0.9860890507698059),\n",
       " (['sigmoid', 'colon', 'and'], 8730, 0.985425591468811),\n",
       " (['sigmoid', 'colon', 'and'], 31667, 0.985425591468811),\n",
       " (['sigmoid', 'colon', 'and'], 76409, 0.985425591468811)]"
      ]
     },
     "execution_count": 47,
     "metadata": {},
     "output_type": "execute_result"
    }
   ],
   "source": [
    "#### looking at the most similar sentences for the  query ###\n",
    "model2.sv.most_similar(6,indexable=index_list.items)[0:5]"
   ]
  },
  {
   "cell_type": "code",
   "execution_count": 98,
   "metadata": {},
   "outputs": [],
   "source": [
    "#### Saving the chosen model ####\n",
    "fse.models.SentenceVectors.save(model2.sv,\"/Users/harshitg/github/autocomplete/autocomplete/sentence2vec_everything_combined_sif.model\")"
   ]
  },
  {
   "cell_type": "code",
   "execution_count": 14,
   "metadata": {},
   "outputs": [],
   "source": [
    "### Applying the Deep Averaging Network methodology for sentence embeddings ####\n",
    "model3 = Average(ft2)"
   ]
  },
  {
   "cell_type": "code",
   "execution_count": 15,
   "metadata": {},
   "outputs": [
    {
     "data": {
      "text/plain": [
       "(419081, 4110171)"
      ]
     },
     "execution_count": 15,
     "metadata": {},
     "output_type": "execute_result"
    }
   ],
   "source": [
    "#### Training the model ####\n",
    "model3.train(IndexedList(queries))"
   ]
  },
  {
   "cell_type": "code",
   "execution_count": 18,
   "metadata": {},
   "outputs": [
    {
     "data": {
      "text/plain": [
       "[(['the', 'sigmoid', 'colon', 'is', 'the'], 7837, 0.9610152244567871),\n",
       " (['the', 'colon', 'is'], 42505, 0.9583863019943237),\n",
       " (['the', 'colon', 'is', 'markedly'], 72403, 0.9570503830909729),\n",
       " (['the', 'colon', 'is', 'apparently'], 70216, 0.9565603733062744),\n",
       " (['the', 'bladder', 'is', 'collapsed', '.'], 63191, 0.95305997133255)]"
      ]
     },
     "execution_count": 18,
     "metadata": {},
     "output_type": "execute_result"
    }
   ],
   "source": [
    "model3.sv.most_similar(6,indexable=index_list.items)[0:5]"
   ]
  },
  {
   "cell_type": "code",
   "execution_count": 103,
   "metadata": {},
   "outputs": [],
   "source": [
    "fse.models.SentenceVectors.save(model3.sv,\"/Users/harshitg/github/autocomplete/autocomplete/sentence2vec_everything_combined_average.model\")"
   ]
  },
  {
   "cell_type": "code",
   "execution_count": 19,
   "metadata": {},
   "outputs": [],
   "source": [
    "#### Applying the uSIF methodology ####\n",
    "model4_word2vec = uSIF(ft2,workers = 2)"
   ]
  },
  {
   "cell_type": "code",
   "execution_count": 20,
   "metadata": {},
   "outputs": [
    {
     "data": {
      "text/plain": [
       "(419081, 4110171)"
      ]
     },
     "execution_count": 20,
     "metadata": {},
     "output_type": "execute_result"
    }
   ],
   "source": [
    "#### Training the model ####\n",
    "model4_word2vec.train(IndexedList(queries))"
   ]
  },
  {
   "cell_type": "code",
   "execution_count": 22,
   "metadata": {},
   "outputs": [
    {
     "data": {
      "text/plain": [
       "[(['the', 'sigmoid', 'colon', 'is', 'the'], 7837, 0.9983557462692261),\n",
       " (['sigmoid', 'colon', 'with', 'diverticuli', '.'], 12033, 0.98822021484375),\n",
       " (['sigmoid', 'colon', 'and'], 31667, 0.9872925281524658),\n",
       " (['sigmoid', 'colon', 'and'], 8730, 0.9872925281524658),\n",
       " (['sigmoid', 'colon', 'and'], 76409, 0.9872925281524658)]"
      ]
     },
     "execution_count": 22,
     "metadata": {},
     "output_type": "execute_result"
    }
   ],
   "source": [
    "model4_word2vec.sv.most_similar(6,indexable=index_list.items)[0:5]"
   ]
  },
  {
   "cell_type": "code",
   "execution_count": 53,
   "metadata": {},
   "outputs": [],
   "source": [
    "#### Saving the model vectors ####\n",
    "fse.models.SentenceVectors.save(model3_word2vec.sv,\"/Users/harshitg/github/autocomplete/autocomplete/sentence2vec_everything_combined_word2vec_usif.model\")"
   ]
  },
  {
   "cell_type": "code",
   "execution_count": null,
   "metadata": {},
   "outputs": [],
   "source": []
  }
 ],
 "metadata": {
  "kernelspec": {
   "display_name": "Python 3",
   "language": "python",
   "name": "python3"
  },
  "language_info": {
   "codemirror_mode": {
    "name": "ipython",
    "version": 3
   },
   "file_extension": ".py",
   "mimetype": "text/x-python",
   "name": "python",
   "nbconvert_exporter": "python",
   "pygments_lexer": "ipython3",
   "version": "3.7.4"
  }
 },
 "nbformat": 4,
 "nbformat_minor": 4
}
