{
 "cells": [
  {
   "cell_type": "code",
   "execution_count": 15,
   "metadata": {},
   "outputs": [],
   "source": [
    "import os\n",
    "import collections\n",
    "import pickle\n",
    "import autocomplete2\n",
    "import re \n",
    "from collections import Counter\n",
    "from bottle import route, run, debug\n",
    "from autocomplete2 import predict\n",
    "from autocomplete2 import models\n",
    "from autocomplete2 import helpers\n",
    "from autocomplete2 import split_predict\n",
    "from autocomplete2 import predict_currword\n",
    "from autocomplete2 import predict_second_word_given_first\n",
    "from autocomplete2 import predict_currword_given_lastword\n",
    "import time"
   ]
  },
  {
   "cell_type": "code",
   "execution_count": 5,
   "metadata": {},
   "outputs": [],
   "source": [
    "### Loading the medicinal products MIMIC-III database ###\n",
    "disorders = open(\"disorder_100k.txt\").read()"
   ]
  },
  {
   "cell_type": "code",
   "execution_count": 10,
   "metadata": {},
   "outputs": [
    {
     "name": "stdout",
     "output_type": "stream",
     "text": [
      "9102582\n"
     ]
    }
   ],
   "source": [
    "print(len(disorders))"
   ]
  },
  {
   "cell_type": "code",
   "execution_count": 21,
   "metadata": {},
   "outputs": [
    {
     "name": "stdout",
     "output_type": "stream",
     "text": [
      "t\n"
     ]
    }
   ],
   "source": [
    "print(disorders[3])"
   ]
  },
  {
   "cell_type": "code",
   "execution_count": 6,
   "metadata": {},
   "outputs": [],
   "source": [
    "splitted = disorders.split(']\"')"
   ]
  },
  {
   "cell_type": "code",
   "execution_count": 5,
   "metadata": {},
   "outputs": [
    {
     "name": "stdout",
     "output_type": "stream",
     "text": [
      "100001\n"
     ]
    }
   ],
   "source": [
    "print(len(splitted))"
   ]
  },
  {
   "cell_type": "code",
   "execution_count": 6,
   "metadata": {},
   "outputs": [
    {
     "name": "stdout",
     "output_type": "stream",
     "text": [
      "\n",
      "\"['metabolic', 'acidosis', '(', 'max', 'cr', '2', '.', '1', ')', '.'\n"
     ]
    }
   ],
   "source": [
    "print(splitted[2])"
   ]
  },
  {
   "cell_type": "code",
   "execution_count": 7,
   "metadata": {},
   "outputs": [],
   "source": [
    "#### Removing unwanted characters from each query and appending it into a list ####\n",
    "string_list = []\n",
    "for i in range(0,len(splitted)):\n",
    "    string = splitted[i]\n",
    "    new = string.replace('\"[','')\n",
    "    new2 = new.replace(\"'\",'')\n",
    "    string_list.append(new2)"
   ]
  },
  {
   "cell_type": "code",
   "execution_count": 8,
   "metadata": {},
   "outputs": [
    {
     "name": "stdout",
     "output_type": "stream",
     "text": [
      "\n",
      "#, arf, :, this, was, likely, due, to, cri, from, dm, ,, and, dehydration, from\n"
     ]
    }
   ],
   "source": [
    "print(string_list[1])"
   ]
  },
  {
   "cell_type": "code",
   "execution_count": 10,
   "metadata": {},
   "outputs": [],
   "source": [
    "#### Further splitting each query list using , as the split character ####\n",
    "word_list = []\n",
    "for i in range(0,len(string_list)):\n",
    "    string = string_list[i]\n",
    "    new = string.split(\", \")\n",
    "    word_list.append(new)"
   ]
  },
  {
   "cell_type": "code",
   "execution_count": 10,
   "metadata": {},
   "outputs": [
    {
     "name": "stdout",
     "output_type": "stream",
     "text": [
      "['\\n#', 'arf', ':', 'this', 'was', 'likely', 'due', 'to', 'cri', 'from', 'dm', ',', 'and', 'dehydration', 'from']\n"
     ]
    }
   ],
   "source": [
    "print(word_list[1])"
   ]
  },
  {
   "cell_type": "code",
   "execution_count": 11,
   "metadata": {},
   "outputs": [],
   "source": [
    "#### Converting each query from a list of strings to a sentence ####\n",
    "query_list = []\n",
    "for k in range(0,len(word_list)):\n",
    "    curr_word_list = word_list[k]\n",
    "    query = ' '.join(word for word in curr_word_list)\n",
    "    query_list.append(query)"
   ]
  },
  {
   "cell_type": "code",
   "execution_count": 12,
   "metadata": {},
   "outputs": [
    {
     "name": "stdout",
     "output_type": "stream",
     "text": [
      "\n",
      "# arf : this was likely due to cri from dm , and dehydration from\n"
     ]
    }
   ],
   "source": [
    "print(query_list[1])"
   ]
  },
  {
   "cell_type": "code",
   "execution_count": 18,
   "metadata": {},
   "outputs": [],
   "source": [
    "with open('/Users/harshitg/github/autocomplete/autocomplete/disorders.txt','w') as f:\n",
    "    for item in query_list:\n",
    "        f.write(\"%s\" % item)"
   ]
  },
  {
   "cell_type": "code",
   "execution_count": 13,
   "metadata": {},
   "outputs": [],
   "source": [
    "txt = open(\"disorders.txt\").read()\n"
   ]
  },
  {
   "cell_type": "code",
   "execution_count": 16,
   "metadata": {},
   "outputs": [
    {
     "name": "stdout",
     "output_type": "stream",
     "text": [
      "saving to: /Users/harshitg/github/autocomplete/autocomplete/models_compressed.pkl\n",
      "saving to: /Users/harshitg/github/autocomplete/autocomplete/models_compressed.pkl\n",
      "saving to: /Users/harshitg/github/autocomplete/autocomplete/models_compressed.pkl\n",
      "saving to: /Users/harshitg/github/autocomplete/autocomplete/models_compressed.pkl\n",
      "saving to: /Users/harshitg/github/autocomplete/autocomplete/models_compressed.pkl\n",
      "saving to: /Users/harshitg/github/autocomplete/autocomplete/models_compressed.pkl\n",
      "saving to: /Users/harshitg/github/autocomplete/autocomplete/models_compressed.pkl\n",
      "saving to: /Users/harshitg/github/autocomplete/autocomplete/models_compressed.pkl\n",
      "saving to: /Users/harshitg/github/autocomplete/autocomplete/models_compressed.pkl\n",
      "saving to: /Users/harshitg/github/autocomplete/autocomplete/models_compressed.pkl\n",
      "[3.1384971141815186, 3.1204311847686768, 3.2524149417877197, 3.254920244216919, 3.136051893234253, 3.050909996032715, 3.0111019611358643, 2.8857998847961426, 3.1275830268859863, 3.0158510208129883]\n"
     ]
    }
   ],
   "source": [
    "##### Training python's autocomplete on the pre-processed .txt file #####\n",
    "k = 0\n",
    "elapsed_list = []\n",
    "while k<10:\n",
    "    start = time.time()\n",
    "    models.train_models(txt,model_name=\"models_compressed.pkl\")\n",
    "    end = time.time()\n",
    "    elapsed_time = end - start \n",
    "    elapsed_list.append(elapsed_time)\n",
    "    k += 1\n",
    "print(elapsed_list)"
   ]
  },
  {
   "cell_type": "code",
   "execution_count": 17,
   "metadata": {},
   "outputs": [
    {
     "data": {
      "text/plain": [
       "[('history', 3736),\n",
       " ('had', 3523),\n",
       " ('her', 3372),\n",
       " ('heart', 3327),\n",
       " ('hypotension', 3187),\n",
       " ('his', 2765),\n",
       " ('has', 2553),\n",
       " ('have', 2364),\n",
       " ('hypertension', 2203),\n",
       " ('he', 2070)]"
      ]
     },
     "execution_count": 17,
     "metadata": {},
     "output_type": "execute_result"
    }
   ],
   "source": [
    "predict_currword(\"h\",top_n = 10)"
   ]
  },
  {
   "cell_type": "code",
   "execution_count": 18,
   "metadata": {},
   "outputs": [
    {
     "data": {
      "text/plain": [
       "[('aortic', 222),\n",
       " ('pain', 203),\n",
       " ('wound', 102),\n",
       " ('abscess', 28),\n",
       " ('ascites', 20),\n",
       " ('hernia', 17),\n",
       " ('ct', 16),\n",
       " ('wall', 16),\n",
       " ('compartment', 11),\n",
       " ('ultrasound', 11)]"
      ]
     },
     "execution_count": 18,
     "metadata": {},
     "output_type": "execute_result"
    }
   ],
   "source": [
    "predict_second_word_given_first(\"abdominal\",top_n = 10)"
   ]
  },
  {
   "cell_type": "code",
   "execution_count": 21,
   "metadata": {},
   "outputs": [
    {
     "data": {
      "text/plain": [
       "[('aortic', 222), ('abscess', 28), ('ascites', 20), ('aorta', 8), ('and', 8)]"
      ]
     },
     "execution_count": 21,
     "metadata": {},
     "output_type": "execute_result"
    }
   ],
   "source": [
    "predict_currword_given_lastword(\"abdominal\",\"a\",top_n = 5)"
   ]
  },
  {
   "cell_type": "code",
   "execution_count": 1,
   "metadata": {},
   "outputs": [
    {
     "name": "stdout",
     "output_type": "stream",
     "text": [
      "HarshilGulati\n"
     ]
    }
   ],
   "source": [
    "print(\"Harshil\"+\"Gulati\")"
   ]
  },
  {
   "cell_type": "code",
   "execution_count": 1,
   "metadata": {},
   "outputs": [],
   "source": [
    "name = \"Harshil Gulati\""
   ]
  },
  {
   "cell_type": "code",
   "execution_count": 3,
   "metadata": {},
   "outputs": [],
   "source": [
    "new = name.replace(\" \",\"_\")"
   ]
  },
  {
   "cell_type": "code",
   "execution_count": 4,
   "metadata": {},
   "outputs": [
    {
     "data": {
      "text/plain": [
       "'Harshil_Gulati'"
      ]
     },
     "execution_count": 4,
     "metadata": {},
     "output_type": "execute_result"
    }
   ],
   "source": [
    "new"
   ]
  },
  {
   "cell_type": "code",
   "execution_count": 5,
   "metadata": {},
   "outputs": [
    {
     "data": {
      "text/plain": [
       "'Harshil Gulati'"
      ]
     },
     "execution_count": 5,
     "metadata": {},
     "output_type": "execute_result"
    }
   ],
   "source": [
    "new.replace(\"_\",\" \")"
   ]
  },
  {
   "cell_type": "code",
   "execution_count": null,
   "metadata": {},
   "outputs": [],
   "source": []
  }
 ],
 "metadata": {
  "kernelspec": {
   "display_name": "Python 3",
   "language": "python",
   "name": "python3"
  },
  "language_info": {
   "codemirror_mode": {
    "name": "ipython",
    "version": 3
   },
   "file_extension": ".py",
   "mimetype": "text/x-python",
   "name": "python",
   "nbconvert_exporter": "python",
   "pygments_lexer": "ipython3",
   "version": "3.7.4"
  }
 },
 "nbformat": 4,
 "nbformat_minor": 4
}
