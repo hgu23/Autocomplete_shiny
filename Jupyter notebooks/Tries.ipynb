{
 "cells": [
  {
   "cell_type": "code",
   "execution_count": 1,
   "metadata": {},
   "outputs": [],
   "source": [
    "import operator\n",
    "import os\n",
    "import collections\n",
    "import pickle\n",
    "import autocomplete2\n",
    "from collections import Counter\n",
    "from bottle import route, run, debug\n",
    "from autocomplete2 import predict\n",
    "from autocomplete2 import models\n",
    "from autocomplete2 import helpers\n",
    "from autocomplete2 import split_predict\n",
    "from autocomplete2 import predict_currword\n",
    "from autocomplete2 import predict_second_word_given_first\n",
    "import re \n",
    "import numpy as np \n",
    "import time\n",
    "import csv \n",
    "import sys\n",
    "from random import sample"
   ]
  },
  {
   "cell_type": "code",
   "execution_count": 2,
   "metadata": {},
   "outputs": [],
   "source": [
    "# Python3 program to demonstrate auto-complete  \n",
    "# feature using Trie data structure. \n",
    "class TrieNode(): \n",
    "    def __init__(self): \n",
    "          \n",
    "        # Initialising one node for trie \n",
    "        self.children = {} \n",
    "        self.last = False\n",
    "  \n",
    "class Trie(): \n",
    "    def __init__(self): \n",
    "          \n",
    "        # Initialising the trie structure. \n",
    "        self.root = TrieNode() \n",
    "        self.word_list = [] \n",
    "  \n",
    "    def formTrie(self, keys): \n",
    "          \n",
    "        # Forms a trie structure with the given set of strings \n",
    "        # if it does not exists already else it merges the key \n",
    "        # into it by extending the structure as required \n",
    "        for key in keys: \n",
    "            self.insert(key) # inserting one key to the trie. \n",
    "  \n",
    "    def insert(self, key): \n",
    "          \n",
    "        # Inserts a key into trie if it does not exist already. \n",
    "        # And if the key is a prefix of the trie node, just  \n",
    "        # marks it as leaf node. \n",
    "        node = self.root \n",
    "        for a in list(key): \n",
    "        ### If the letter of the prefix is not found in the child nodes, add them to the trie ##\n",
    "            if not node.children.get(a): \n",
    "                node.children[a] = TrieNode() \n",
    "            node = node.children[a] \n",
    "        node.last = True\n",
    "  \n",
    "    def search(self, key): \n",
    "          \n",
    "        # Searches the given key in trie for a full match \n",
    "        # and returns True on success else returns False. \n",
    "        node = self.root \n",
    "        found = True\n",
    "  \n",
    "        for a in list(key): \n",
    "            if not node.children.get(a):  ### If the key is not found in the child nodes,  breaks the loop. \n",
    "                found = False\n",
    "                break\n",
    "  \n",
    "            node = node.children[a]  ### Creates a new node with the letter not found in the child nodes.###\n",
    "  \n",
    "        return node and node.last and found \n",
    "  \n",
    "    def suggestionsRec(self, node, word): \n",
    "          \n",
    "        # Method to recursively traverse the trie \n",
    "        # and return a whole word.  \n",
    "        if node.last: \n",
    "            self.word_list.append(word) \n",
    "        ## Add characters to the word in word list as found in the child nodes ###\n",
    "        for a,n in node.children.items(): \n",
    "            self.suggestionsRec(n, word + a) ##### Adds the letters in the child nodes of the current node (node corresponding to the \n",
    "                                             #####last letter of the prefix) to the prefix and then appends it into the \n",
    "                                             ##### list of suggestions ####\n",
    "    \n",
    "    def printAutoSuggestions(self, key,WORDS,top_n): \n",
    "          \n",
    "        # Returns all the words in the trie whose common \n",
    "        # prefix is the given key thus listing out all  \n",
    "        # the suggestions for autocomplete. \n",
    "        self.word_list = []\n",
    "        node = self.root \n",
    "        not_found = False\n",
    "        temp_word = '' \n",
    "  \n",
    "        for a in list(key): \n",
    "           ### If the key is not found in the children, break the loop ###\n",
    "            if not node.children.get(a): \n",
    "                not_found = True\n",
    "                break\n",
    "           ### Add the keys to the temp_word string to form the prefix to be searched ###\n",
    "            temp_word += a \n",
    "            ### Call the node corresponding to the current letter of the prefix if the character exists in the child nodes ###\n",
    "            node = node.children[a] \n",
    "           #### Get the suggestions by calling the suggestionsRec function which gets the suggestions by looking at the child nodes of the node \n",
    "           #### corresponding to the last letter of the prefix ####\n",
    "        self.suggestionsRec(node, temp_word)\n",
    "        if not_found: \n",
    "            return 0\n",
    "        elif node.last and not node.children: ### If the current node itself is the root node (no characters have been added to the trie \n",
    "            return -1                         ##structure)##\n",
    "        #print(self.word_list)\n",
    "        freq_dict  = Counter(WORDS)\n",
    "        dict = {}\n",
    "        for s in self.word_list:\n",
    "            dict[s] = freq_dict[s]\n",
    "        sorted_tup = sorted(dict.items(), key=operator.itemgetter(1),reverse = True)\n",
    "        sorted_list = []\n",
    "        for tup in sorted_tup[:top_n]:\n",
    "            sorted_list.append(tup[0])\n",
    "        return sorted_list"
   ]
  },
  {
   "cell_type": "code",
   "execution_count": 3,
   "metadata": {},
   "outputs": [
    {
     "data": {
      "text/plain": [
       "3000"
      ]
     },
     "execution_count": 3,
     "metadata": {},
     "output_type": "execute_result"
    }
   ],
   "source": [
    "sys.getrecursionlimit()"
   ]
  },
  {
   "cell_type": "code",
   "execution_count": 3,
   "metadata": {},
   "outputs": [],
   "source": [
    "sys.setrecursionlimit(15000)"
   ]
  },
  {
   "cell_type": "code",
   "execution_count": 52,
   "metadata": {},
   "outputs": [
    {
     "name": "stdout",
     "output_type": "stream",
     "text": [
      "[ 0.  2.  4.  6.  8. 10. 12. 14. 16. 18. 20. 22. 24. 26. 28. 30. 32. 34.\n",
      " 36. 38. 40. 42. 44. 46. 48. 50. 52. 54. 56. 58. 60.]\n"
     ]
    }
   ],
   "source": [
    "list = np.linspace(0,60,31)\n",
    "print(list)"
   ]
  },
  {
   "cell_type": "code",
   "execution_count": 7,
   "metadata": {},
   "outputs": [],
   "source": [
    "huge_file = \"everything_combined.txt\""
   ]
  },
  {
   "cell_type": "code",
   "execution_count": 8,
   "metadata": {},
   "outputs": [],
   "source": [
    "#### Creating a list of all words in the text file #####\n",
    "huge_list = []\n",
    "with open(huge_file, \"r\") as f:\n",
    "    for line in f:\n",
    "        huge_list.extend(line.split())"
   ]
  },
  {
   "cell_type": "code",
   "execution_count": 21,
   "metadata": {},
   "outputs": [],
   "source": [
    "##### Creating a list of tuples of 2 consecutive words for autocompetion #####\n",
    "keys = list(helpers.chunks(huge_list,2)) # keys to form the trie structure. "
   ]
  },
  {
   "cell_type": "code",
   "execution_count": 20,
   "metadata": {},
   "outputs": [
    {
     "data": {
      "text/plain": [
       "['serosal', 'mass']"
      ]
     },
     "execution_count": 20,
     "metadata": {},
     "output_type": "execute_result"
    }
   ],
   "source": [
    "keys[0]"
   ]
  },
  {
   "cell_type": "code",
   "execution_count": 24,
   "metadata": {},
   "outputs": [
    {
     "name": "stdout",
     "output_type": "stream",
     "text": [
      "the descending\n",
      "elapsed time= 20.345088958740234\n"
     ]
    }
   ],
   "source": [
    "#### Combining the consecutive words into one string separated by an empty space and creating a new list ####\n",
    "new_list = []\n",
    "for i in range(0,len(keys)):\n",
    "    curr_list = keys[i]\n",
    "    new_list.append(curr_list[0]+ ' ' + curr_list[1])\n",
    "print(new_list[3])\n",
    "\n",
    "# creating trie object \n",
    "t = Trie() \n",
    "\n",
    "#### Creating the trie structure with the set of strings ####\n",
    "start = time.time()\n",
    "t.formTrie(new_list) \n",
    "end = time.time()\n",
    "print(\"elapsed time=\",end-start)"
   ]
  },
  {
   "cell_type": "code",
   "execution_count": 27,
   "metadata": {},
   "outputs": [
    {
     "name": "stdout",
     "output_type": "stream",
     "text": [
      "['the patient', 'the left', 'the right', 'there is', 'the procedure', 'the \"\"patients\"\"', 'the aortic', 'the setting', 'the chest', 'the mitral']\n",
      "elapsed time  =  0.8671159744262695\n"
     ]
    }
   ],
   "source": [
    "#### For phrases of specific lengths ###\n",
    "key = \"th\" # key for autocomplete suggestions.\n",
    "status = [\"Not found\", \"Found\"] \n",
    "# autocompleting the given key using  \n",
    "# our trie structure. \n",
    "start = time.time()\n",
    "comp = t.printAutoSuggestions(key,new_list,top_n = 10) \n",
    "end  = time.time()\n",
    "print(comp)\n",
    "print(\"elapsed time  = \",end-start)\n",
    "if comp == -1: \n",
    "    print(\"No other strings found with this prefix\\n\") \n",
    "elif comp == 0: \n",
    "    print(\"No string found with this prefix\\n\") "
   ]
  },
  {
   "cell_type": "code",
   "execution_count": 28,
   "metadata": {},
   "outputs": [
    {
     "name": "stdout",
     "output_type": "stream",
     "text": [
      "34.659099817276\n"
     ]
    }
   ],
   "source": [
    "#### Repeating for entire query lines #####\n",
    "query_list = open(\"everything_combined.txt\").readlines()\n",
    "keys = query_list\n",
    "\n",
    "# creating the trie structure with the  \n",
    "# given set of strings.\n",
    "t = Trie() \n",
    "start = time.time()\n",
    "t.formTrie(query_list) \n",
    "end = time.time()\n",
    "elapsed_time = end-start\n",
    "print(elapsed_time)\n"
   ]
  },
  {
   "cell_type": "code",
   "execution_count": 30,
   "metadata": {},
   "outputs": [
    {
     "name": "stdout",
     "output_type": "stream",
     "text": [
      "['lower extremity bypass surgery discharge instructions\\n', 'lower extremity\\n', 'lower extremity edema .\\n', 'lower leg\\n', 'low back pain\\n', 'low limb lead voltage .\\n', 'lower limb\\n', 'low lung volumes .\\n', 'low lung volumes\\n', 'locked-in state (G83.5)\\n']\n",
      "Elapsed time= 0.12334299087524414\n"
     ]
    }
   ],
   "source": [
    "key = \"lo\" # key for autocomplete suggestions. \n",
    "# t.insert(key)\n",
    "status = [\"Not found\", \"Found\"] \n",
    "start = time.time()\n",
    "comp = t.printAutoSuggestions(key,keys,top_n = 10) \n",
    "print(comp)\n",
    "end = time.time()\n",
    "elapsed_time = end-start\n",
    "print(\"Elapsed time=\", elapsed_time)"
   ]
  },
  {
   "cell_type": "code",
   "execution_count": null,
   "metadata": {},
   "outputs": [],
   "source": [
    "#### Attempting to store the formed trie data structure #####\n"
   ]
  },
  {
   "cell_type": "code",
   "execution_count": 31,
   "metadata": {},
   "outputs": [
    {
     "name": "stdout",
     "output_type": "stream",
     "text": [
      "[16.681086778640747, 8.520795106887817, 10.436122179031372, 11.3989896774292, 9.251160144805908, 9.212028980255127, 11.252387046813965, 9.637441158294678, 9.280953168869019, 9.947311878204346]\n"
     ]
    }
   ],
   "source": [
    "##### Creating a list of elapsed times by creating the Trie data structure using distinct total number of queries ####\n",
    "query_list = open(\"body_struct.txt\").readlines()\n",
    "#query_list = open(\"disorders.txt\").readlines()\n",
    "#query_list = open(\"procedures.txt\").readlines()\n",
    "#query_list = open(\"everything_combined.txt\").readlines()\n",
    "k = 0\n",
    "elapsed_list_1 = []\n",
    "while k<10:\n",
    "    t = Trie() \n",
    "    start = time.time()\n",
    "    t.formTrie(query_list) \n",
    "    end = time.time()\n",
    "    elapsed_time = end-start\n",
    "    elapsed_list_1.append(elapsed_time)\n",
    "    k += 1\n",
    "print(elapsed_list_1)\n"
   ]
  },
  {
   "cell_type": "code",
   "execution_count": 44,
   "metadata": {},
   "outputs": [],
   "source": [
    "#### Saving the list of elapsed times as a numpy array ###\n",
    "insert_elapsed_list1 = elapsed_list_1\n",
    "data = np.asarray(insert_elapsed_list1)\n",
    "np.save('insert_elapsed_1.npy', data)"
   ]
  },
  {
   "cell_type": "code",
   "execution_count": 4,
   "metadata": {},
   "outputs": [],
   "source": [
    "corpus = open(\"everything_combined.txt\").readlines()"
   ]
  },
  {
   "cell_type": "code",
   "execution_count": 5,
   "metadata": {},
   "outputs": [
    {
     "name": "stdout",
     "output_type": "stream",
     "text": [
      "[4.291534423828125e-07, 3.789134216308594, 7.469305205345154, 11.416516518592834, 15.322182130813598, 19.35610749721527, 24.497124791145325, 29.55403664112091, 34.563829112052915, 39.33153941631317, 44.23347852230072]\n"
     ]
    }
   ],
   "source": [
    "#### Randomly sampling queries and adding the mean elapsed time to the a list ####\n",
    "mean_query_insert_list = []\n",
    "for length in range(0,len(corpus),40000):\n",
    "    query_list = sample(corpus,length)\n",
    "    keys = query_list\n",
    "    k = 0\n",
    "    elapsed_list_1 = []\n",
    "    while k<10:\n",
    "        t = Trie() \n",
    "        start = time.time()\n",
    "        t.formTrie(query_list) \n",
    "        end = time.time()\n",
    "        elapsed_time = end-start\n",
    "        elapsed_list_1.append(elapsed_time)\n",
    "        k += 1\n",
    "    mean_query_insert_list.append(np.mean(elapsed_list_1))\n",
    "print(mean_query_insert_list)"
   ]
  },
  {
   "cell_type": "code",
   "execution_count": 6,
   "metadata": {},
   "outputs": [],
   "source": [
    "#### Saving the list of mean query insert times as a numpy array ###\n",
    "data = np.asarray(mean_query_insert_list)\n",
    "np.save('mean_query_insert_list_everything.npy', data)"
   ]
  },
  {
   "cell_type": "code",
   "execution_count": 8,
   "metadata": {},
   "outputs": [
    {
     "name": "stdout",
     "output_type": "stream",
     "text": [
      "['abd', 'abdom', 'abdomen', 'abdomin', 'abdominal', 'abdominus', 'abdominopelvic', 'abdominoplasty', 'abdominoplastia', 'abdominla']\n",
      "['abd', 'abdom', 'abdomen', 'abdomin', 'abdominal', 'abdominus', 'abdominopelvic', 'abdominoplasty', 'abdominoplastia', 'abdominla']\n",
      "['abd', 'abdom', 'abdomen', 'abdomin', 'abdominal', 'abdominus', 'abdominopelvic', 'abdominoplasty', 'abdominoplastia', 'abdominla']\n",
      "['abd', 'abdom', 'abdomen', 'abdomin', 'abdominal', 'abdominus', 'abdominopelvic', 'abdominoplasty', 'abdominoplastia', 'abdominla']\n",
      "['abd', 'abdom', 'abdomen', 'abdomin', 'abdominal', 'abdominus', 'abdominopelvic', 'abdominoplasty', 'abdominoplastia', 'abdominla']\n",
      "['abd', 'abdom', 'abdomen', 'abdomin', 'abdominal', 'abdominus', 'abdominopelvic', 'abdominoplasty', 'abdominoplastia', 'abdominla']\n",
      "['abd', 'abdom', 'abdomen', 'abdomin', 'abdominal', 'abdominus', 'abdominopelvic', 'abdominoplasty', 'abdominoplastia', 'abdominla']\n",
      "['abd', 'abdom', 'abdomen', 'abdomin', 'abdominal', 'abdominus', 'abdominopelvic', 'abdominoplasty', 'abdominoplastia', 'abdominla']\n",
      "['abd', 'abdom', 'abdomen', 'abdomin', 'abdominal', 'abdominus', 'abdominopelvic', 'abdominoplasty', 'abdominoplastia', 'abdominla']\n",
      "['abd', 'abdom', 'abdomen', 'abdomin', 'abdominal', 'abdominus', 'abdominopelvic', 'abdominoplasty', 'abdominoplastia', 'abdominla']\n",
      "[0.15689611434936523, 0.12306094169616699, 0.13416290283203125, 0.13291072845458984, 0.1350100040435791, 0.1242680549621582, 0.12613391876220703, 0.13150691986083984, 0.13140177726745605, 0.12268376350402832]\n"
     ]
    }
   ],
   "source": [
    "#### Searching for autocomplete suggestions multiple times to create a list of elapsed times for different number of query lines #####\n",
    "key = \"abd\" # key for autocomplete suggestions. \n",
    "status = [\"Not found\", \"Found\"] \n",
    "query_elapsed_list1 = []\n",
    "k= 0 \n",
    "while k<10:\n",
    "    start = time.time()\n",
    "    comp = t.printAutoSuggestions(key,keys,top_n = 10) \n",
    "    print(comp)\n",
    "    end = time.time()\n",
    "    elapsed_time = end-start\n",
    "    query_elapsed_list1.append(elapsed_time)\n",
    "    k += 1\n",
    "print(query_elapsed_list1)\n",
    "if comp == -1: \n",
    "    print(\"No other strings found with this prefix\\n\") \n",
    "elif comp == 0: \n",
    "    print(\"No string found with this prefix\\n\")"
   ]
  },
  {
   "cell_type": "code",
   "execution_count": 17,
   "metadata": {},
   "outputs": [],
   "source": [
    "#### Saving the elapsed time list for searching the trie data structure ####\n",
    "data = np.asarray(query_elapsed_list1)\n",
    "np.save('query_elapsed_list1.npy', data)"
   ]
  },
  {
   "cell_type": "code",
   "execution_count": 7,
   "metadata": {},
   "outputs": [
    {
     "name": "stdout",
     "output_type": "stream",
     "text": [
      "3.426222085952759\n"
     ]
    }
   ],
   "source": [
    "#huge_file = \"body_struct.txt\"\n",
    "#huge_file = \"combined_2.txt\"\n",
    "#huge_file = \"combined_3.txt\"\n",
    "huge_file = \"combined_processed.txt\"\n",
    "huge_list = []\n",
    "with open(huge_file, \"r\") as f:\n",
    "    for line in f:\n",
    "        huge_list.extend(line.split())\n",
    "\n",
    "# creating trie object\n",
    "t = Trie()\n",
    "# creating the trie structure with the  \n",
    "# given set of strings.\n",
    "start = time.time()\n",
    "t.formTrie(huge_list) \n",
    "end = time.time()\n",
    "elapsed_time = end-start\n",
    "print(elapsed_time)"
   ]
  },
  {
   "cell_type": "code",
   "execution_count": 98,
   "metadata": {},
   "outputs": [
    {
     "name": "stdout",
     "output_type": "stream",
     "text": [
      "[4.21788001 4.18371391 4.15810895 4.13986278 3.91943073 4.12861085\n",
      " 4.24800205 3.98630404 4.02628303 4.47440886]\n"
     ]
    }
   ],
   "source": [
    "print(np.load('insert_single_time4.npy'))"
   ]
  },
  {
   "cell_type": "code",
   "execution_count": 11,
   "metadata": {},
   "outputs": [
    {
     "name": "stdout",
     "output_type": "stream",
     "text": [
      "[5.228835105895996]\n"
     ]
    }
   ],
   "source": [
    "### Autocompletion for just one word ###\n",
    "#huge_file = \"body_struct.txt\"\n",
    "#huge_file = \"combined_2.txt\"\n",
    "#huge_file = \"combined_3.txt\"\n",
    "huge_file = \"everything_combined.txt\"\n",
    "huge_list = []\n",
    "with open(huge_file, \"r\") as f:\n",
    "    for line in f:\n",
    "        huge_list.extend(line.split())\n",
    "# creating trie object \n",
    "# creating the trie structure with the  \n",
    "# given set of strings.\n",
    "insert_single_time1 = []\n",
    "k = 0 \n",
    "while k<1:\n",
    "    t = Trie() \n",
    "    start = time.time()\n",
    "    t.formTrie(huge_list) \n",
    "    end = time.time()\n",
    "    elapsed_time = end-start\n",
    "    insert_single_time1.append(elapsed_time)\n",
    "    k +=1\n",
    "print(insert_single_time1)"
   ]
  },
  {
   "cell_type": "code",
   "execution_count": 12,
   "metadata": {},
   "outputs": [],
   "source": [
    "### Saving the list os elapsed times as a numpy array for different total number of words ####\n",
    "data = np.asarray(insert_single_time1)\n",
    "np.save('insert_single_time4.npy', data)"
   ]
  },
  {
   "cell_type": "code",
   "execution_count": 13,
   "metadata": {},
   "outputs": [
    {
     "name": "stdout",
     "output_type": "stream",
     "text": [
      "['A8', 'A80', 'A80-A89', 'A80-B09,', 'A80.0', 'A80.1', 'A80.2', 'A80.3', 'A80.30', 'A80.39']\n"
     ]
    }
   ],
   "source": [
    "#### Measuring the query search time for single word ####\n",
    "key = \"A8\" # key for autocomplete suggestions. \n",
    "keys = huge_list\n",
    "status = [\"Not found\", \"Found\"]\n",
    "query_single_list = []\n",
    "k = 0 \n",
    "while k<10:\n",
    "    start = time.time()\n",
    "    comp = t.printAutoSuggestions(key,keys,top_n = 10) \n",
    "    end = time.time() \n",
    "    elapsed_time = end-start\n",
    "    query_single_list.append(elapsed_time)\n",
    "    k += 1\n",
    "print(comp)\n",
    "#print(query_single_list)\n",
    "if comp == -1: \n",
    "    print(\"No other strings found with this prefix\\n\") \n",
    "elif comp == 0: \n",
    "    print(\"No string found with this prefix\\n\") "
   ]
  },
  {
   "cell_type": "code",
   "execution_count": 100,
   "metadata": {},
   "outputs": [],
   "source": [
    "#### Saving the list of elapsed times as a numpy array ###\n",
    "data = np.asarray(query_single_list)\n",
    "np.save('query_single_time4.npy', data)"
   ]
  }
 ],
 "metadata": {
  "kernelspec": {
   "display_name": "Python 3",
   "language": "python",
   "name": "python3"
  },
  "language_info": {
   "codemirror_mode": {
    "name": "ipython",
    "version": 3
   },
   "file_extension": ".py",
   "mimetype": "text/x-python",
   "name": "python",
   "nbconvert_exporter": "python",
   "pygments_lexer": "ipython3",
   "version": "3.7.4"
  }
 },
 "nbformat": 4,
 "nbformat_minor": 4
}
